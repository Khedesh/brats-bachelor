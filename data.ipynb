{
 "cells": [
  {
   "cell_type": "code",
   "execution_count": 2,
   "metadata": {
    "collapsed": true
   },
   "outputs": [
    {
     "name": "stdout",
     "output_type": "stream",
     "text": [
      "/Users/Khedesh/Desktop/Workspace/University/Project/Data/BRATS2015_Training/output/HGG\n"
     ]
    }
   ],
   "source": [
    "root_dir = '/Users/Khedesh/Desktop/Workspace/University/Project/Data/BRATS2015_Training/output/HGG'\n",
    "print(root_dir)"
   ]
  },
  {
   "cell_type": "code",
   "execution_count": 14,
   "metadata": {},
   "outputs": [
    {
     "name": "stdout",
     "output_type": "stream",
     "text": [
      "tensor(1584, dtype=torch.int16) torch.int16\n"
     ]
    }
   ],
   "source": [
    "import SimpleITK as sitk\n",
    "import os\n",
    "import torch\n",
    "\n",
    "\n",
    "def get_image(index, fname):\n",
    "    img = sitk.ReadImage(os.path.join(root_dir, str(index) + '/' + fname))\n",
    "    return torch.from_numpy(sitk.GetArrayFromImage(img))\n",
    "\n",
    "image = get_image(1, 'T2.mha')\n",
    "print(torch.max(image), image.dtype)"
   ]
  },
  {
   "cell_type": "code",
   "execution_count": 6,
   "metadata": {},
   "outputs": [],
   "source": [
    ""
   ]
  },
  {
   "cell_type": "code",
   "execution_count": null,
   "metadata": {},
   "outputs": [],
   "source": [
    ""
   ]
  }
 ],
 "metadata": {
  "kernelspec": {
   "display_name": "Python 2",
   "language": "python",
   "name": "python2"
  },
  "language_info": {
   "codemirror_mode": {
    "name": "ipython",
    "version": 2.0
   },
   "file_extension": ".py",
   "mimetype": "text/x-python",
   "name": "python",
   "nbconvert_exporter": "python",
   "pygments_lexer": "ipython2",
   "version": "2.7.6"
  }
 },
 "nbformat": 4,
 "nbformat_minor": 0
}