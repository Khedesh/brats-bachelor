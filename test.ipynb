{
 "cells": [
  {
   "cell_type": "code",
   "execution_count": 2,
   "metadata": {
    "collapsed": true
   },
   "outputs": [],
   "source": [
    "from __future__ import print_function\n",
    "import torch"
   ]
  },
  {
   "cell_type": "code",
   "execution_count": 4,
   "metadata": {},
   "outputs": [
    {
     "name": "stdout",
     "output_type": "stream",
     "text": [
      "tensor(1.00000e-44 *\n       [[ 0.0000,  0.0000,  0.0000,  0.0000,  3.6434],\n        [ 0.0000,  0.0000,  0.0000,  0.0000,  0.0000],\n        [ 0.0000,  0.0000,  0.0000,  0.0000,  0.0000]])\n"
     ]
    }
   ],
   "source": [
    "x = torch.empty(3, 5)\n",
    "print(x)"
   ]
  },
  {
   "cell_type": "code",
   "execution_count": 6,
   "metadata": {},
   "outputs": [
    {
     "name": "stdout",
     "output_type": "stream",
     "text": [
      "tensor([[ 0.3344,  0.0161,  0.9993,  0.5554,  0.4608,  0.4893,  0.9801],\n        [ 0.3785,  0.0164,  0.1003,  0.5588,  0.2999,  0.7457,  0.4044],\n        [ 0.5115,  0.8663,  0.9083,  0.9291,  0.7095,  0.1292,  0.5046],\n        [ 0.9969,  0.3748,  0.2376,  0.7737,  0.0585,  0.7560,  0.0419],\n        [ 0.4613,  0.1206,  0.3670,  0.6867,  0.8696,  0.2045,  0.8815]])\n"
     ]
    }
   ],
   "source": [
    "y = torch.rand(5, 7)\n",
    "print(y)"
   ]
  },
  {
   "cell_type": "code",
   "execution_count": 7,
   "metadata": {},
   "outputs": [
    {
     "name": "stdout",
     "output_type": "stream",
     "text": [
      "tensor([[ 0,  0,  0,  0,  0,  0,  0],\n        [ 0,  0,  0,  0,  0,  0,  0]])\n"
     ]
    }
   ],
   "source": [
    "z = torch.zeros(2, 7, dtype=torch.long)\n",
    "print(z)"
   ]
  },
  {
   "cell_type": "code",
   "execution_count": 9,
   "metadata": {},
   "outputs": [
    {
     "name": "stdout",
     "output_type": "stream",
     "text": [
      "[1. 1. 1. 1. 1. 1. 1. 1. 1.]\ntensor([ 1.,  1.,  1.,  1.,  1.,  1.,  1.,  1.,  1.], dtype=torch.float64)\n"
     ]
    }
   ],
   "source": [
    "q = torch.ones(9, dtype=torch.double)\n",
    "r = q.numpy()\n",
    "print(r)\n",
    "print(torch.from_numpy(r))"
   ]
  },
  {
   "cell_type": "code",
   "execution_count": 11,
   "metadata": {},
   "outputs": [],
   "source": [
    "torch.Tensor.requires_grad = True"
   ]
  },
  {
   "cell_type": "code",
   "execution_count": 1,
   "metadata": {},
   "outputs": [
    {
     "name": "stdout",
     "output_type": "stream",
     "text": [
      "Net(\n  (conv1): Conv2d(4, 64, kernel_size=(3, 3), stride=(1, 1))\n  (conv2): Conv2d(64, 64, kernel_size=(3, 3), stride=(1, 1))\n  (conv3): Conv2d(64, 128, kernel_size=(3, 3), stride=(1, 1))\n  (conv4): Conv2d(128, 128, kernel_size=(3, 3), stride=(1, 1))\n  (fc1): Linear(in_features=1152, out_features=256, bias=True)\n  (fc2): Linear(in_features=256, out_features=256, bias=True)\n  (fc3): Linear(in_features=256, out_features=5, bias=True)\n)\n"
     ]
    }
   ],
   "source": [
    "from model import Net\n",
    "net = Net()\n",
    "print(net)"
   ]
  },
  {
   "cell_type": "code",
   "execution_count": 4,
   "metadata": {},
   "outputs": [
    {
     "name": "stdout",
     "output_type": "stream",
     "text": [
      "14\ntorch.Size([64, 4, 3, 3])\n"
     ]
    }
   ],
   "source": [
    "params = list(net.parameters())\n",
    "print(len(params))\n",
    "print(params[0].size())"
   ]
  },
  {
   "cell_type": "code",
   "execution_count": null,
   "metadata": {},
   "outputs": [],
   "source": [
    ""
   ]
  }
 ],
 "metadata": {
  "kernelspec": {
   "display_name": "Python 2",
   "language": "python",
   "name": "python2"
  },
  "language_info": {
   "codemirror_mode": {
    "name": "ipython",
    "version": 2.0
   },
   "file_extension": ".py",
   "mimetype": "text/x-python",
   "name": "python",
   "nbconvert_exporter": "python",
   "pygments_lexer": "ipython2",
   "version": "2.7.6"
  }
 },
 "nbformat": 4,
 "nbformat_minor": 0
}